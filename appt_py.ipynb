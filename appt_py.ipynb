{
  "nbformat": 4,
  "nbformat_minor": 0,
  "metadata": {
    "colab": {
      "provenance": [],
      "authorship_tag": "ABX9TyPgeEyvXJvdDXS/w2TcO4wc",
      "include_colab_link": true
    },
    "kernelspec": {
      "name": "python3",
      "display_name": "Python 3"
    },
    "language_info": {
      "name": "python"
    }
  },
  "cells": [
    {
      "cell_type": "markdown",
      "metadata": {
        "id": "view-in-github",
        "colab_type": "text"
      },
      "source": [
        "<a href=\"https://colab.research.google.com/github/uceku95/timesheet-using-flask/blob/main/appt_py.ipynb\" target=\"_parent\"><img src=\"https://colab.research.google.com/assets/colab-badge.svg\" alt=\"Open In Colab\"/></a>"
      ]
    },
    {
      "cell_type": "code",
      "source": [
        "!pip install flask\n"
      ],
      "metadata": {
        "colab": {
          "base_uri": "https://localhost:8080/"
        },
        "id": "vgR230JsG_tg",
        "outputId": "bc284958-e5ee-45f3-9b54-7108708d805d"
      },
      "execution_count": null,
      "outputs": [
        {
          "output_type": "stream",
          "name": "stdout",
          "text": [
            "Requirement already satisfied: flask in /usr/local/lib/python3.10/dist-packages (2.2.5)\n",
            "Requirement already satisfied: Werkzeug>=2.2.2 in /usr/local/lib/python3.10/dist-packages (from flask) (2.3.6)\n",
            "Requirement already satisfied: Jinja2>=3.0 in /usr/local/lib/python3.10/dist-packages (from flask) (3.1.2)\n",
            "Requirement already satisfied: itsdangerous>=2.0 in /usr/local/lib/python3.10/dist-packages (from flask) (2.1.2)\n",
            "Requirement already satisfied: click>=8.0 in /usr/local/lib/python3.10/dist-packages (from flask) (8.1.3)\n",
            "Requirement already satisfied: MarkupSafe>=2.0 in /usr/local/lib/python3.10/dist-packages (from Jinja2>=3.0->flask) (2.1.3)\n"
          ]
        }
      ]
    },
    {
      "cell_type": "code",
      "execution_count": null,
      "metadata": {
        "colab": {
          "base_uri": "https://localhost:8080/"
        },
        "id": "XvBXMisPE0_Q",
        "outputId": "00aa10fe-cef3-4f00-8771-9942dff12fb8"
      },
      "outputs": [
        {
          "output_type": "stream",
          "name": "stdout",
          "text": [
            " * Serving Flask app '__main__'\n",
            " * Debug mode: off\n"
          ]
        },
        {
          "output_type": "stream",
          "name": "stderr",
          "text": [
            "INFO:werkzeug:\u001b[31m\u001b[1mWARNING: This is a development server. Do not use it in a production deployment. Use a production WSGI server instead.\u001b[0m\n",
            " * Running on all addresses (0.0.0.0)\n",
            " * Running on http://127.0.0.1:5000\n",
            " * Running on http://172.28.0.12:5000\n",
            "INFO:werkzeug:\u001b[33mPress CTRL+C to quit\u001b[0m\n"
          ]
        }
      ],
      "source": [
        "from flask import Flask, jsonify, request\n",
        "\n",
        "app = Flask(__name__)\n",
        "\n",
        "timesheets = []\n",
        "\n",
        "# Endpoint to create a new timesheet\n",
        "@app.route('/timesheets', methods=['POST'])\n",
        "def create_timesheet():\n",
        "    data = request.get_json()\n",
        "    timesheet = {\n",
        "        'id': len(timesheets) + 1,\n",
        "        'project': data['project'],\n",
        "        'hours': data['hours']\n",
        "    }\n",
        "    timesheets.append(timesheet)\n",
        "    return jsonify({'message': 'Timesheet created successfully', 'timesheet': timesheet}), 201\n",
        "\n",
        "# Endpoint to get all timesheets\n",
        "@app.route('/timesheets', methods=['GET'])\n",
        "def get_timesheets():\n",
        "    return jsonify({'timesheets': timesheets})\n",
        "\n",
        "# Endpoint to get a specific timesheet\n",
        "@app.route('/timesheets/<int:timesheet_id>', methods=['GET'])\n",
        "def get_timesheet(timesheet_id):\n",
        "    timesheet = next((timesheet for timesheet in timesheets if timesheet['id'] == timesheet_id), None)\n",
        "    if timesheet:\n",
        "        return jsonify(timesheet)\n",
        "    return jsonify({'message': 'Timesheet not found'}), 404\n",
        "\n",
        "# Endpoint to update a timesheet\n",
        "@app.route('/timesheets/<int:timesheet_id>', methods=['PUT'])\n",
        "def update_timesheet(timesheet_id):\n",
        "    timesheet = next((timesheet for timesheet in timesheets if timesheet['id'] == timesheet_id), None)\n",
        "    if timesheet:\n",
        "        data = request.get_json()\n",
        "        timesheet['project'] = data['project']\n",
        "        timesheet['hours'] = data['hours']\n",
        "        return jsonify({'message': 'Timesheet updated successfully', 'timesheet': timesheet})\n",
        "    return jsonify({'message': 'Timesheet not found'}), 404\n",
        "\n",
        "# Endpoint to delete a timesheet\n",
        "@app.route('/timesheets/<int:timesheet_id>', methods=['DELETE'])\n",
        "def delete_timesheet(timesheet_id):\n",
        "    timesheet = next((timesheet for timesheet in timesheets if timesheet['id'] == timesheet_id), None)\n",
        "    if timesheet:\n",
        "        timesheets.remove(timesheet)\n",
        "        return jsonify({'message': 'Timesheet deleted successfully'})\n",
        "    return jsonify({'message': 'Timesheet not found'}), 404\n",
        "\n",
        "if __name__ == '__main__':\n",
        "    app.run(host='0.0.0.0', port=5000)"
      ]
    }
  ]
}